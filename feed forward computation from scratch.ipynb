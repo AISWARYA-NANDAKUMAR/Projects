{
 "cells": [
  {
   "cell_type": "markdown",
   "metadata": {},
   "source": [
    "Convolutional Neural Network"
   ]
  },
  {
   "cell_type": "markdown",
   "metadata": {},
   "source": [
    "### Weights\n",
    "Weight is the parameter within a neural network that transforms input data within the network's hidden layers. A neural network is a series of nodes, or neurons. Within each node is a set of inputs, weight, and a bias value."
   ]
  },
  {
   "cell_type": "markdown",
   "metadata": {},
   "source": [
    "### Bias\n",
    "\n",
    "Bias is like the intercept added in a linear equation. It is an additional parameter in the Neural Network which is used to adjust the output along with the weighted sum of the inputs to the neuron. Thus, Bias is a constant which helps the model in a way that it can fit best for the given data.\n",
    "\n",
    "<h3><center>Output  =  Sum(Weights* Inputs) + Bias </center></h3>\n"
   ]
  },
  {
   "cell_type": "markdown",
   "metadata": {},
   "source": [
    "### Sigmoid Function\n",
    "The sigmoid activation function, also called the logistic function, is traditionally a very popular activation function for neural networks. The input to the function is transformed into a value between 0.0 and 1.0.\n",
    "\n",
    "\n",
    "$$\\sigma(x) = \\frac{1}{1+e^{-x}}$$\n",
    "\n"
   ]
  },
  {
   "cell_type": "markdown",
   "metadata": {},
   "source": [
    "1. Write the lines of code  (without using direct built in packages) to perform the feed forward computation for the architecture with weights and bias given. Use the matrix-vector multiplication as the function in the feed forward computation of each layer."
   ]
  },
  {
   "cell_type": "code",
   "execution_count": null,
   "metadata": {},
   "outputs": [],
   "source": [
    "import numpy as np         \n",
    "\n",
    "#defining the inputs in an array as given in the question\n",
    "inp=np.array([1,-1])       \n",
    "\n",
    "#weights and bias for the first layer\n",
    "w1=np.array([[1,-1],[-2, 1]])     \n",
    "b1=np.array([1,0])\n",
    "\n",
    "#weights and bias for the second layer\n",
    "w2=np.array([[2, -2],[-1, -1]])\n",
    "b2=np.array([0,0])\n",
    "\n",
    "#weights and bias for the third layer\n",
    "w3=np.array([[3, -1],[-1, 4]])\n",
    "b3=np.array([-2,2])\n",
    "\n",
    "w=[w1,w2,w3]\n",
    "b=[b1,b2,b3]\n",
    "\n",
    "#defining the sigmoid function\n",
    "def sigm(z):\n",
    "    return(1/(1+np.exp(-z)))\n",
    "\n",
    "#activation function\n",
    "a=inp\n",
    "for i in range(3):\n",
    "    z=np.dot(a,w[i])+b[i]\n",
    "    a=sigm(z)\n",
    "    \n",
    "print(inp)\n",
    "print(a)"
   ]
  },
  {
   "cell_type": "markdown",
   "metadata": {},
   "source": [
    "2. Generalise the code with the design of deep neural architecture details received as an input from the user. Use the random weights and bias to perform the feed forward computation for the architecture given by the user."
   ]
  },
  {
   "cell_type": "markdown",
   "metadata": {},
   "source": [
    "User's inputs"
   ]
  },
  {
   "cell_type": "code",
   "execution_count": null,
   "metadata": {},
   "outputs": [],
   "source": [
    "#defining Sigmoid function\n",
    "def sigmoid(x):\n",
    "    result = 1/(1 + np.exp(-x))\n",
    "    return result\n",
    "\n",
    "#Taking Inputs from user\n",
    "m = int(input(\"Enter number of input samples-> \"))\n",
    "n = int(input(\"Enter number of features-> \"))\n",
    "X = np.random.randn(m,n)\n",
    "N = int(input(\"Enter number of hidden Layers-> \"))\n",
    "l = []\n",
    "\n",
    "for i in range(N):\n",
    "    x = int(input(\"Number of neurons for \" + str(i+1)+ \" layer->\"))\n",
    "    l.append(x)\n",
    "N_output = int(input(\" Number of neurons in Output Layer-> \"))\n",
    "\n",
    "\n",
    "# Initializing weights and biases\n",
    "W = []\n",
    "B = []\n",
    "\n",
    "W.append(np.random.randn(n,l[0]))\n",
    "\n",
    "for i in range(N-1):\n",
    "    w = np.random.randn(l[i],l[i+1])\n",
    "    b = np.random.randn(1,l[i])\n",
    "    B.append(b)\n",
    "    W.append(w)\n",
    "B.append(np.random.randn(1,l[N-1]))\n",
    "W.append(np.random.randn(l[N-1],N_output))\n",
    "B.append(np.random.randn(1,N_output))\n",
    "\n",
    "# Feed Forward Computation\n",
    "for i in range(N+1):\n",
    "    Z = np.matmul(X,W[i]) + B[i]\n",
    "    A = sigmoid(Z)\n",
    "    X = A\n",
    "\n",
    "output = X\n",
    "print(output)"
   ]
  },
  {
   "cell_type": "code",
   "execution_count": null,
   "metadata": {},
   "outputs": [],
   "source": []
  }
 ],
 "metadata": {
  "kernelspec": {
   "display_name": "Python 3",
   "language": "python",
   "name": "python3"
  },
  "language_info": {
   "codemirror_mode": {
    "name": "ipython",
    "version": 3
   },
   "file_extension": ".py",
   "mimetype": "text/x-python",
   "name": "python",
   "nbconvert_exporter": "python",
   "pygments_lexer": "ipython3",
   "version": "3.7.6"
  }
 },
 "nbformat": 4,
 "nbformat_minor": 4
}
