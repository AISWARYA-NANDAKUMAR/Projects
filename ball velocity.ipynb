{
 "cells": [
  {
   "cell_type": "code",
   "execution_count": 3,
   "metadata": {},
   "outputs": [],
   "source": [
    "import matplotlib.pyplot as plt\n",
    "from PIL import Image\n",
    "import numpy as np\n",
    "from numpy import asarray\n",
    "import matplotlib.image as img\n",
    "import cv2\n",
    "from skimage import io\n",
    "\n",
    "vidcap = cv2.VideoCapture('C:/Users/nobody/Desktop/img/ball.mp4')\n",
    "def getFrame(sec):\n",
    "    vidcap.set(cv2.CAP_PROP_POS_MSEC,sec*1000)\n",
    "    hasFrames,image = vidcap.read()\n",
    "    if hasFrames:\n",
    "        cv2.imwrite(\"image\"+str(count)+\".jpg\", image)\n",
    "    return hasFrames\n",
    "sec = 0\n",
    "frameRate = 0.05\n",
    "success = getFrame(sec)\n",
    "count=1\n",
    "while success:\n",
    "    sec = sec + frameRate\n",
    "    sec = round(sec, 2)\n",
    "    success = getFrame(sec)\n",
    "    count=count+1"
   ]
  },
  {
   "cell_type": "code",
   "execution_count": 4,
   "metadata": {},
   "outputs": [
    {
     "ename": "TypeError",
     "evalue": "Expected Ptr<cv::UMat> for argument 'src'",
     "output_type": "error",
     "traceback": [
      "\u001b[1;31m---------------------------------------------------------------------------\u001b[0m",
      "\u001b[1;31mTypeError\u001b[0m                                 Traceback (most recent call last)",
      "\u001b[1;32m<ipython-input-4-03e179a139ce>\u001b[0m in \u001b[0;36m<module>\u001b[1;34m\u001b[0m\n\u001b[0;32m      2\u001b[0m \u001b[1;31m# plt.imshow(img)\u001b[0m\u001b[1;33m\u001b[0m\u001b[1;33m\u001b[0m\u001b[1;33m\u001b[0m\u001b[0m\n\u001b[0;32m      3\u001b[0m \u001b[1;33m\u001b[0m\u001b[0m\n\u001b[1;32m----> 4\u001b[1;33m \u001b[0mret\u001b[0m\u001b[1;33m,\u001b[0m \u001b[0mbw_img\u001b[0m \u001b[1;33m=\u001b[0m \u001b[0mcv2\u001b[0m\u001b[1;33m.\u001b[0m\u001b[0mthreshold\u001b[0m\u001b[1;33m(\u001b[0m\u001b[0mimg\u001b[0m\u001b[1;33m,\u001b[0m\u001b[1;36m200\u001b[0m\u001b[1;33m,\u001b[0m\u001b[1;36m255\u001b[0m\u001b[1;33m,\u001b[0m\u001b[0mcv2\u001b[0m\u001b[1;33m.\u001b[0m\u001b[0mTHRESH_BINARY\u001b[0m \u001b[1;33m|\u001b[0m \u001b[0mcv2\u001b[0m\u001b[1;33m.\u001b[0m\u001b[0mTHRESH_OTSU\u001b[0m\u001b[1;33m)\u001b[0m\u001b[1;33m\u001b[0m\u001b[1;33m\u001b[0m\u001b[0m\n\u001b[0m\u001b[0;32m      5\u001b[0m \u001b[0mplt\u001b[0m\u001b[1;33m.\u001b[0m\u001b[0mimshow\u001b[0m\u001b[1;33m(\u001b[0m\u001b[0mbw_img\u001b[0m\u001b[1;33m)\u001b[0m\u001b[1;33m\u001b[0m\u001b[1;33m\u001b[0m\u001b[0m\n\u001b[0;32m      6\u001b[0m \u001b[1;33m\u001b[0m\u001b[0m\n",
      "\u001b[1;31mTypeError\u001b[0m: Expected Ptr<cv::UMat> for argument 'src'"
     ]
    }
   ],
   "source": [
    "\n",
    "img1 = cv2.imread(\"C:/Users/nobody/Desktop/img/python velocity/image.jpg\",cv2.IMREAD_GRAYSCALE)\n",
    "# plt.imshow(img)\n",
    "\n",
    "ret, bw_img = cv2.threshold(img,200,255,cv2.THRESH_BINARY | cv2.THRESH_OTSU)\n",
    "plt.imshow(bw_img)\n",
    "\n",
    "img2 = cv2.imread('C:/Users/nobody/Desktop/img/python velocity/image61.jpg',cv2.IMREAD_GRAYSCALE)\n",
    "# plt.imshow(img2)\n",
    "\n",
    "ret2, bw_img2 = cv2.threshold(img2,200,255,cv2.THRESH_BINARY | cv2.THRESH_OTSU)\n",
    "# plt.imshow(bw_img2)\n",
    "\n",
    "img3 = cv2.imread('C:/Users/nobody/Desktop/img/python velocity/image62.jpg',cv2.IMREAD_GRAYSCALE)\n",
    "# plt.imshow(img3)\n",
    "\n",
    "ret3, bw_img3 = cv2.threshold(img3,200,255,cv2.THRESH_BINARY | cv2.THRESH_OTSU)\n",
    "# plt.imshow(bw_img3)\n",
    "\n",
    "img4 = cv2.imread('C:/Users/nobody/Desktop/img/python velocity/image63.jpg',cv2.IMREAD_GRAYSCALE)\n",
    "# plt.imshow(img4)\n",
    "\n",
    "ret4, bw_img4 = cv2.threshold(img4,200,255,cv2.THRESH_BINARY | cv2.THRESH_OTSU)\n",
    "# plt.imshow(bw_img4)\n",
    "\n",
    "img5 = cv2.imread('C:/Users/nobody/Desktop/img/python velocity/image64.jpg',cv2.IMREAD_GRAYSCALE)\n",
    "# plt.imshow(img5)\n",
    "\n",
    "ret5, bw_img5 = cv2.threshold(img5,200,255,cv2.THRESH_BINARY | cv2.THRESH_OTSU)\n",
    "# plt.imshow(bw_img5)\n",
    "\n",
    "img6 = cv2.imread('C:/Users/nobody/Desktop/img/python velocity/image65.jpg',cv2.IMREAD_GRAYSCALE)\n",
    "# plt.imshow(img6)\n",
    "\n",
    "ret6, bw_img6 = cv2.threshold(img6,200,255,cv2.THRESH_BINARY | cv2.THRESH_OTSU)\n",
    "# plt.imshow(bw_img6)\n",
    "\n",
    "img7 = cv2.imread('C:/Users/nobody/Desktop/img/python velocity/image66.jpg',cv2.IMREAD_GRAYSCALE)\n",
    "# plt.imshow(img7)\n",
    "\n",
    "ret7, bw_img7 = cv2.threshold(img7,200,255,cv2.THRESH_BINARY | cv2.THRESH_OTSU)\n",
    "# plt.imshow(bw_img7)\n",
    "\n",
    "img8 = cv2.imread('C:/Users/nobody/Desktop/img/python velocity/image67.jpg',cv2.IMREAD_GRAYSCALE)\n",
    "# plt.imshow(img8)\n",
    "\n",
    "ret8, bw_img8 = cv2.threshold(img8,200,255,cv2.THRESH_BINARY | cv2.THRESH_OTSU)\n",
    "# plt.imshow(bw_img8)\n",
    "\n",
    "img9 = cv2.imread('C:/Users/nobody/Desktop/img/python velocity/image68.jpg',cv2.IMREAD_GRAYSCALE)\n",
    "# plt.imshow(img9)\n",
    "\n",
    "ret9, bw_img9 = cv2.threshold(img9,200,255,cv2.THRESH_BINARY | cv2.THRESH_OTSU)\n",
    "# plt.imshow(bw_img9)\n"
   ]
  },
  {
   "cell_type": "code",
   "execution_count": 6,
   "metadata": {},
   "outputs": [
    {
     "ename": "TypeError",
     "evalue": "'NoneType' object is not callable",
     "output_type": "error",
     "traceback": [
      "\u001b[1;31m---------------------------------------------------------------------------\u001b[0m",
      "\u001b[1;31mTypeError\u001b[0m                                 Traceback (most recent call last)",
      "\u001b[1;32m<ipython-input-6-8bfd0c2299d5>\u001b[0m in \u001b[0;36m<module>\u001b[1;34m\u001b[0m\n\u001b[0;32m      6\u001b[0m \u001b[1;33m\u001b[0m\u001b[0m\n\u001b[0;32m      7\u001b[0m \u001b[1;32mfor\u001b[0m \u001b[0mi\u001b[0m \u001b[1;32min\u001b[0m \u001b[0mrange\u001b[0m\u001b[1;33m(\u001b[0m\u001b[1;36m1\u001b[0m\u001b[1;33m,\u001b[0m \u001b[0mcolumns\u001b[0m\u001b[1;33m*\u001b[0m\u001b[0mrows\u001b[0m \u001b[1;33m+\u001b[0m\u001b[1;36m1\u001b[0m\u001b[1;33m)\u001b[0m\u001b[1;33m:\u001b[0m\u001b[1;33m\u001b[0m\u001b[1;33m\u001b[0m\u001b[0m\n\u001b[1;32m----> 8\u001b[1;33m     \u001b[0mimg\u001b[0m \u001b[1;33m=\u001b[0m \u001b[0mbw_img\u001b[0m\u001b[1;33m(\u001b[0m\u001b[1;36m10\u001b[0m\u001b[1;33m,\u001b[0m \u001b[0msize\u001b[0m\u001b[1;33m=\u001b[0m\u001b[1;33m(\u001b[0m\u001b[0mh\u001b[0m\u001b[1;33m,\u001b[0m\u001b[0mw\u001b[0m\u001b[1;33m)\u001b[0m\u001b[1;33m)\u001b[0m\u001b[1;33m\u001b[0m\u001b[1;33m\u001b[0m\u001b[0m\n\u001b[0m\u001b[0;32m      9\u001b[0m     \u001b[0mfig\u001b[0m\u001b[1;33m.\u001b[0m\u001b[0madd_subplot\u001b[0m\u001b[1;33m(\u001b[0m\u001b[0mrows\u001b[0m\u001b[1;33m,\u001b[0m \u001b[0mcolumns\u001b[0m\u001b[1;33m,\u001b[0m \u001b[0mi\u001b[0m\u001b[1;33m)\u001b[0m\u001b[1;33m\u001b[0m\u001b[1;33m\u001b[0m\u001b[0m\n\u001b[0;32m     10\u001b[0m     \u001b[0mplt\u001b[0m\u001b[1;33m.\u001b[0m\u001b[0mimshow\u001b[0m\u001b[1;33m(\u001b[0m\u001b[0mimg\u001b[0m\u001b[1;33m)\u001b[0m\u001b[1;33m\u001b[0m\u001b[1;33m\u001b[0m\u001b[0m\n",
      "\u001b[1;31mTypeError\u001b[0m: 'NoneType' object is not callable"
     ]
    },
    {
     "data": {
      "text/plain": [
       "<Figure size 576x576 with 0 Axes>"
      ]
     },
     "metadata": {},
     "output_type": "display_data"
    }
   ],
   "source": [
    "w=10\n",
    "h=10\n",
    "fig=plt.figure(figsize=(8, 8))\n",
    "columns = 4\n",
    "rows = 5\n",
    "\n",
    "for i in range(1, columns*rows +1):\n",
    "    img = bw_img(10, size=(h,w))\n",
    "    fig.add_subplot(rows, columns, i)\n",
    "    plt.imshow(img)\n",
    "plt.show()"
   ]
  },
  {
   "cell_type": "code",
   "execution_count": null,
   "metadata": {},
   "outputs": [],
   "source": [
    "\n",
    "\n",
    "\n",
    "\n",
    "    "
   ]
  },
  {
   "cell_type": "code",
   "execution_count": null,
   "metadata": {},
   "outputs": [],
   "source": []
  },
  {
   "cell_type": "code",
   "execution_count": 4,
   "metadata": {},
   "outputs": [],
   "source": [
    "data2 = asarray(bw_img2)\n",
    "# print(type(data))\n",
    "# print(data)\n",
    "# print(data.shape[1])"
   ]
  },
  {
   "cell_type": "code",
   "execution_count": 5,
   "metadata": {},
   "outputs": [],
   "source": [
    "data3 = asarray(bw_img3)\n",
    "# print(type(data))\n",
    "# print(data)\n",
    "# print(data.shape[1])"
   ]
  },
  {
   "cell_type": "code",
   "execution_count": 6,
   "metadata": {},
   "outputs": [],
   "source": [
    "data4 = asarray(bw_img4)\n",
    "# print(type(data))\n",
    "# print(data)\n",
    "# print(data.shape[1])"
   ]
  },
  {
   "cell_type": "code",
   "execution_count": 7,
   "metadata": {},
   "outputs": [],
   "source": [
    "data5 = asarray(bw_img5)\n",
    "# print(type(data))\n",
    "# print(data)\n",
    "# print(data.shape[1])"
   ]
  },
  {
   "cell_type": "code",
   "execution_count": 8,
   "metadata": {},
   "outputs": [],
   "source": [
    "data6 = asarray(bw_img6)\n",
    "# print(type(data))\n",
    "# print(data)\n",
    "# print(data.shape[1])"
   ]
  },
  {
   "cell_type": "code",
   "execution_count": 9,
   "metadata": {},
   "outputs": [],
   "source": [
    "data7 = asarray(bw_img7)\n",
    "# print(type(data))\n",
    "# print(data)\n",
    "# print(data.shape[1])"
   ]
  },
  {
   "cell_type": "code",
   "execution_count": 10,
   "metadata": {},
   "outputs": [],
   "source": [
    "data8 = asarray(bw_img8)\n",
    "# print(type(data))\n",
    "# print(data)\n",
    "# print(data.shape[1])"
   ]
  },
  {
   "cell_type": "code",
   "execution_count": 11,
   "metadata": {},
   "outputs": [],
   "source": [
    "data9 = asarray(bw_img9)\n",
    "# print(type(data))\n",
    "# print(data)\n",
    "# print(data.shape[1])"
   ]
  },
  {
   "cell_type": "code",
   "execution_count": 12,
   "metadata": {},
   "outputs": [
    {
     "name": "stdout",
     "output_type": "stream",
     "text": [
      "183.42867389225376\n",
      "41.02255339496334\n"
     ]
    }
   ],
   "source": [
    "n=0\n",
    "x_sum=0\n",
    "y_sum=0\n",
    "data=data2\n",
    "for i in range(0,data.shape[0]-1 ):\n",
    "    for j in range(0,data.shape[1]-1):\n",
    "        if data[i,j]<200:\n",
    "            n=n+1\n",
    "            x_sum=x_sum+i\n",
    "            y_sum=y_sum+j\n",
    "centroidx2=x_sum/n\n",
    "centroidy2=y_sum/n\n",
    "print(centroidx2)\n",
    "print(centroidy2)    "
   ]
  },
  {
   "cell_type": "code",
   "execution_count": 13,
   "metadata": {},
   "outputs": [
    {
     "name": "stdout",
     "output_type": "stream",
     "text": [
      "182.0352360817477\n",
      "154.74013389711064\n"
     ]
    }
   ],
   "source": [
    "n=0\n",
    "x_sum=0\n",
    "y_sum=0\n",
    "data=data3\n",
    "for i in range(0,data.shape[0]-1 ):\n",
    "    for j in range(0,data.shape[1]-1):\n",
    "        if data[i,j]<200:\n",
    "            n=n+1\n",
    "            x_sum=x_sum+i\n",
    "            y_sum=y_sum+j\n",
    "centroidx3=x_sum/n\n",
    "centroidy3=y_sum/n\n",
    "print(centroidx3)\n",
    "print(centroidy3)"
   ]
  },
  {
   "cell_type": "code",
   "execution_count": 14,
   "metadata": {},
   "outputs": [
    {
     "name": "stdout",
     "output_type": "stream",
     "text": [
      "181.99242860305512\n",
      "240.61943767987603\n"
     ]
    }
   ],
   "source": [
    "n=0\n",
    "x_sum=0\n",
    "y_sum=0\n",
    "data=data4\n",
    "for i in range(0,data.shape[0]-1 ):\n",
    "    for j in range(0,data.shape[1]-1):\n",
    "        if data[i,j]<200:\n",
    "            n=n+1\n",
    "            x_sum=x_sum+i\n",
    "            y_sum=y_sum+j\n",
    "centroidx4=x_sum/n\n",
    "centroidy4=y_sum/n\n",
    "print(centroidx4)\n",
    "print(centroidy4)"
   ]
  },
  {
   "cell_type": "code",
   "execution_count": 15,
   "metadata": {},
   "outputs": [
    {
     "name": "stdout",
     "output_type": "stream",
     "text": [
      "183.43875942572316\n",
      "433.48762407872874\n"
     ]
    }
   ],
   "source": [
    "n=0\n",
    "x_sum=0\n",
    "y_sum=0\n",
    "data=data5\n",
    "for i in range(0,data.shape[0]-1 ):\n",
    "    for j in range(0,data.shape[1]-1):\n",
    "        if data[i,j]<200:\n",
    "            n=n+1\n",
    "            x_sum=x_sum+i\n",
    "            y_sum=y_sum+j\n",
    "centroidx5=x_sum/n\n",
    "centroidy5=y_sum/n\n",
    "print(centroidx5)\n",
    "print(centroidy5)"
   ]
  },
  {
   "cell_type": "code",
   "execution_count": 16,
   "metadata": {},
   "outputs": [
    {
     "name": "stdout",
     "output_type": "stream",
     "text": [
      "185.09390842191334\n",
      "532.6314799672936\n"
     ]
    }
   ],
   "source": [
    "n=0\n",
    "x_sum=0\n",
    "y_sum=0\n",
    "data=data6\n",
    "for i in range(0,data.shape[0]-1 ):\n",
    "    for j in range(0,data.shape[1]-1):\n",
    "        if data[i,j]<200:\n",
    "            n=n+1\n",
    "            x_sum=x_sum+i\n",
    "            y_sum=y_sum+j\n",
    "centroidx6=x_sum/n\n",
    "centroidy6=y_sum/n\n",
    "print(centroidx6)\n",
    "print(centroidy6)"
   ]
  },
  {
   "cell_type": "code",
   "execution_count": 17,
   "metadata": {},
   "outputs": [
    {
     "name": "stdout",
     "output_type": "stream",
     "text": [
      "187.1461143984221\n",
      "721.2765285996055\n"
     ]
    }
   ],
   "source": [
    "n=0\n",
    "x_sum=0\n",
    "y_sum=0\n",
    "data=data7\n",
    "for i in range(0,data.shape[0]-1 ):\n",
    "    for j in range(0,data.shape[1]-1):\n",
    "        if data[i,j]<200:\n",
    "            n=n+1\n",
    "            x_sum=x_sum+i\n",
    "            y_sum=y_sum+j\n",
    "centroidx7=x_sum/n\n",
    "centroidy7=y_sum/n\n",
    "print(centroidx7)\n",
    "print(centroidy7)"
   ]
  },
  {
   "cell_type": "code",
   "execution_count": 18,
   "metadata": {},
   "outputs": [
    {
     "name": "stdout",
     "output_type": "stream",
     "text": [
      "186.5124680588598\n",
      "827.5098687108997\n"
     ]
    }
   ],
   "source": [
    "n=0\n",
    "x_sum=0\n",
    "y_sum=0\n",
    "data=data8\n",
    "for i in range(0,data.shape[0]-1 ):\n",
    "    for j in range(0,data.shape[1]-1):\n",
    "        if data[i,j]<200:\n",
    "            n=n+1\n",
    "            x_sum=x_sum+i\n",
    "            y_sum=y_sum+j\n",
    "centroidx8=x_sum/n\n",
    "centroidy8=y_sum/n\n",
    "print(centroidx8)\n",
    "print(centroidy8)"
   ]
  },
  {
   "cell_type": "code",
   "execution_count": 19,
   "metadata": {},
   "outputs": [
    {
     "name": "stdout",
     "output_type": "stream",
     "text": [
      "184.37758528395543\n",
      "1061.8063652732494\n"
     ]
    }
   ],
   "source": [
    "n=0\n",
    "x_sum=0\n",
    "y_sum=0\n",
    "data=data9\n",
    "for i in range(0,data.shape[0]-1 ):\n",
    "    for j in range(0,data.shape[1]-1):\n",
    "        if data[i,j]<200:\n",
    "            n=n+1\n",
    "            x_sum=x_sum+i\n",
    "            y_sum=y_sum+j\n",
    "centroidx9=x_sum/n\n",
    "centroidy9=y_sum/n\n",
    "print(centroidx9)\n",
    "print(centroidy9)"
   ]
  },
  {
   "cell_type": "code",
   "execution_count": 20,
   "metadata": {},
   "outputs": [
    {
     "name": "stdout",
     "output_type": "stream",
     "text": [
      "[[255 255 255 ... 255 255 255]\n",
      " [255 255 255 ... 255 255 255]\n",
      " [255 255 255 ... 255 255 255]\n",
      " ...\n",
      " [255 255 255 ... 255 255 255]\n",
      " [255 255 255 ... 255 255 255]\n",
      " [255 255 255 ... 255 255 255]] [[255 255 255 ... 255 255 255]\n",
      " [255 255 255 ... 255 255 255]\n",
      " [255 255 255 ... 255 255 255]\n",
      " ...\n",
      " [255 255 255 ... 255 255 255]\n",
      " [255 255 255 ... 255 255 255]\n",
      " [255 255 255 ... 255 255 255]] [[255 255 255 ... 255 255 255]\n",
      " [255 255 255 ... 255 255 255]\n",
      " [255 255 255 ... 255 255 255]\n",
      " ...\n",
      " [255 255 255 ... 255 255 255]\n",
      " [255 255 255 ... 255 255 255]\n",
      " [255 255 255 ... 255 255 255]] [[255 255 255 ... 255 255 255]\n",
      " [255 255 255 ... 255 255 255]\n",
      " [255 255 255 ... 255 255 255]\n",
      " ...\n",
      " [255 255 255 ... 255 255 255]\n",
      " [255 255 255 ... 255 255 255]\n",
      " [255 255 255 ... 255 255 255]] [[255 255 255 ... 255 255 255]\n",
      " [255 255 255 ... 255 255 255]\n",
      " [255 255 255 ... 255 255 255]\n",
      " ...\n",
      " [255 255 255 ... 255 255 255]\n",
      " [255 255 255 ... 255 255 255]\n",
      " [255 255 255 ... 255 255 255]] [[255 255 255 ... 255 255 255]\n",
      " [255 255 255 ... 255 255 255]\n",
      " [255 255 255 ... 255 255 255]\n",
      " ...\n",
      " [255 255 255 ... 255 255 255]\n",
      " [255 255 255 ... 255 255 255]\n",
      " [255 255 255 ... 255 255 255]] [[255 255 255 ... 255 255 255]\n",
      " [255 255 255 ... 255 255 255]\n",
      " [255 255 255 ... 255 255 255]\n",
      " ...\n",
      " [255 255 255 ... 255 255 255]\n",
      " [255 255 255 ... 255 255 255]\n",
      " [255 255 255 ... 255 255 255]]\n"
     ]
    }
   ],
   "source": [
    "print(data2,data3,data4,data5,data6,data7,data8)"
   ]
  },
  {
   "cell_type": "code",
   "execution_count": 21,
   "metadata": {},
   "outputs": [
    {
     "name": "stdout",
     "output_type": "stream",
     "text": [
      "(183.42867389225376, 182.0352360817477, 181.99242860305512, 183.43875942572316, 185.09390842191334, 187.1461143984221, 186.5124680588598, 184.37758528395543)\n",
      "(41.02255339496334, 154.74013389711064, 240.61943767987603, 433.48762407872874, 532.6314799672936, 721.2765285996055, 827.5098687108997, 1061.8063652732494)\n"
     ]
    }
   ],
   "source": [
    "cx=(centroidx2,centroidx3,centroidx4,centroidx5,centroidx6,centroidx7,centroidx8,centroidx9)\n",
    "cy=(centroidy2,centroidy3,centroidy4,centroidy5,centroidy6,centroidy7,centroidy8,centroidy9)\n",
    "print(cx)\n",
    "print(cy)"
   ]
  },
  {
   "cell_type": "code",
   "execution_count": 22,
   "metadata": {},
   "outputs": [],
   "source": [
    "# plt.imshow(bw_img9)"
   ]
  },
  {
   "cell_type": "code",
   "execution_count": 23,
   "metadata": {},
   "outputs": [
    {
     "name": "stdout",
     "output_type": "stream",
     "text": [
      "Array:  [[183.42867389 182.03523608 181.9924286  183.43875943 185.09390842\n",
      "  187.1461144  186.51246806 184.37758528]]\n",
      "Array:  [[  41.02255339  154.7401339   240.61943768  433.48762408  532.63147997\n",
      "   721.2765286   827.50986871 1061.80636527]]\n"
     ]
    }
   ],
   "source": [
    "import numpy\n",
    "lst1 = [cx]\n",
    "lst2 = [cy]\n",
    "arr1 = numpy.array(lst1)\n",
    "arr2 = numpy.array(lst2) \n",
    "# print (\"List: \", lst1)\n",
    "# print (\"List: \", lst2)\n",
    "print (\"Array: \", arr1)\n",
    "print (\"Array: \", arr2)"
   ]
  },
  {
   "cell_type": "code",
   "execution_count": 28,
   "metadata": {},
   "outputs": [
    {
     "data": {
      "image/png": "[encoded data removed]",
      "text/plain": [
       "<Figure size 432x288 with 1 Axes>"
      ]
     },
     "metadata": {
      "needs_background": "light"
     },
     "output_type": "display_data"
    }
   ],
   "source": [
    "x = [0.05,0.10,0.15,0.20,0.25,0.30,0.35,0.40] \n",
    "y = [41.02255339,  154.7401339,   240.61943768,  433.48762408,  532.63147997,\n",
    "   721.2765286,   827.50986871, 1061.80636527]  \n",
    "plt.plot(x, y) \n",
    "plt.xlabel('time')  \n",
    "plt.ylabel('position')  \n",
    "plt.title('position-time graph')  \n",
    "a=plt.show()"
   ]
  },
  {
   "cell_type": "code",
   "execution_count": null,
   "metadata": {},
   "outputs": [],
   "source": []
  },
  {
   "cell_type": "code",
   "execution_count": 29,
   "metadata": {},
   "outputs": [
    {
     "name": "stdout",
     "output_type": "stream",
     "text": [
      "[[2274.3516102 1717.5860756 3857.363728  1982.8771178 3772.9009726\n",
      "  2124.6668022 4685.9299312]]\n",
      "[[0.05 0.1  0.15 0.2  0.25 0.3  0.35]]\n"
     ]
    },
    {
     "data": {
      "image/png": "[encoded data removed]",
      "text/plain": [
       "<Figure size 432x288 with 1 Axes>"
      ]
     },
     "metadata": {
      "needs_background": "light"
     },
     "output_type": "display_data"
    }
   ],
   "source": [
    "import numpy as np\n",
    "v=np.zeros(shape=[1,len(y)-1])\n",
    "t=np.zeros(shape=[1,len(x)-1])\n",
    "# print (v)\n",
    "x = [0.05,0.10,0.15,0.20,0.25,0.30,0.35,0.40] \n",
    "y = [41.02255339,  154.7401339,   240.61943768,  433.48762408,  532.63147997,\n",
    "   721.2765286,   827.50986871, 1061.80636527]  \n",
    "for i in range(0,(v.shape[1])):\n",
    "#     v(i)=y(i+1)-y(i)/x(i+1)-x(i)\n",
    "    v[0,i]=(y[i+1]-y[i])/(x[i+1]-x[i])\n",
    "for j in range(0,(t.shape[1])):\n",
    "    t[0,j]=x[j]\n",
    "print(v)\n",
    "print(t)\n",
    "plt.plot(t[0,:],v[0,:])\n",
    "plt.xlabel('time')  \n",
    "plt.ylabel('velocity')  \n",
    "plt.title('velocity-time graph')  \n",
    "b=plt.show()\n",
    "\n"
   ]
  },
  {
   "cell_type": "code",
   "execution_count": 30,
   "metadata": {},
   "outputs": [
    {
     "name": "stdout",
     "output_type": "stream",
     "text": [
      "[[-11135.310692  42795.553048 -37489.732204  35800.477096 -32964.683408\n",
      "   51225.26258 ]]\n",
      "[[0.05 0.1  0.15 0.2  0.25 0.3 ]]\n"
     ]
    },
    {
     "data": {
      "image/png": "[encoded data removed]",
      "text/plain": [
       "<Figure size 432x288 with 1 Axes>"
      ]
     },
     "metadata": {
      "needs_background": "light"
     },
     "output_type": "display_data"
    }
   ],
   "source": [
    "import numpy as np\n",
    "z = [0.05, 0.1,  0.15, 0.2,  0.25, 0.3,  0.35] \n",
    "v = [2274.3516102, 1717.5860756, 3857.363728,  1982.8771178, 3772.9009726,\n",
    "  2124.6668022, 4685.9299312] \n",
    "a=np.zeros(shape=[1,len(v)-1])\n",
    "t=np.zeros(shape=[1,len(z)-1])\n",
    "# print (v)\n",
    " \n",
    "for i in range(0,(a.shape[1])):\n",
    "#     v(i)=y(i+1)-y(i)/x(i+1)-x(i)\n",
    "    a[0,i]=(v[i+1]-v[i])/(x[i+1]-x[i])\n",
    "for j in range(0,(t.shape[1])):\n",
    "    t[0,j]=x[j]\n",
    "print(a)\n",
    "print(t)\n",
    "plt.plot(t[0,:],a[0,:])\n",
    "plt.xlabel('time')  \n",
    "plt.ylabel('acceleration')  \n",
    "plt.title('acceleration-time graph')  \n",
    "c=plt.show()\n",
    "\n",
    "\n"
   ]
  },
  {
   "cell_type": "code",
   "execution_count": null,
   "metadata": {},
   "outputs": [],
   "source": [
    "print(t.shape[1])"
   ]
  },
  {
   "cell_type": "code",
   "execution_count": null,
   "metadata": {},
   "outputs": [],
   "source": [
    "import numpy as np\n",
    "v=np.zeros(shape=[1,len(y)-1])\n",
    "t=np.zeros(shape=[1,len(x)-1])\n",
    "# print (v)\n",
    "for i in range(len(v)):\n",
    "    v[i]=(y[i+1]-y[i])/(x[i+1]-x[i])\n",
    "print(v)\n",
    "for j in range(len(t)):\n",
    "    t[j]=x[j+1]-x[j]\n",
    "#     print(t)"
   ]
  },
  {
   "cell_type": "code",
   "execution_count": 33,
   "metadata": {},
   "outputs": [
    {
     "name": "stdout",
     "output_type": "stream",
     "text": [
      "{'velocity': [[2274.3516102, 1717.5860756, 3857.363728, 1982.8771178, 3772.9009726, 2124.6668022, 4685.9299312]], 'time': [array([[0.05, 0.1 , 0.15, 0.2 , 0.25, 0.3 ]])]}\n"
     ]
    }
   ],
   "source": [
    "data = {'velocity' : [v], \n",
    "        'time' : [t]}\n",
    "# plt.plot(data['velocity'])\n",
    "# plt.xticks(range(len(data['time'])), data['time'])\n",
    "print (data)"
   ]
  },
  {
   "cell_type": "code",
   "execution_count": null,
   "metadata": {},
   "outputs": [],
   "source": []
  },
  {
   "cell_type": "code",
   "execution_count": null,
   "metadata": {},
   "outputs": [],
   "source": []
  }
 ],
 "metadata": {
  "kernelspec": {
   "display_name": "Python 3",
   "language": "python",
   "name": "python3"
  },
  "language_info": {
   "codemirror_mode": {
    "name": "ipython",
    "version": 3
   },
   "file_extension": ".py",
   "mimetype": "text/x-python",
   "name": "python",
   "nbconvert_exporter": "python",
   "pygments_lexer": "ipython3",
   "version": "3.7.6"
  }
 },
 "nbformat": 4,
 "nbformat_minor": 4
}
