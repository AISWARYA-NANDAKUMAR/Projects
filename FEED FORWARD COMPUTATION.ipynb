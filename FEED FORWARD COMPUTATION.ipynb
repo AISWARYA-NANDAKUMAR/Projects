{
 "cells": [
  {
   "cell_type": "markdown",
   "metadata": {},
   "source": [
    "FEED FORWARD COMPUTATION "
   ]
  },
  {
   "cell_type": "markdown",
   "metadata": {},
   "source": [
    "1. Write the lines of code  (without using direct built in packages) to perform the feed forward computation for the architecture with weights and bias given. Use the matrix-vector multiplication as the function in the feed forward computation of each layer."
   ]
  },
  {
   "cell_type": "code",
   "execution_count": 113,
   "metadata": {},
   "outputs": [
    {
     "name": "stdout",
     "output_type": "stream",
     "text": [
      "[ 1 -1]\n",
      "[0.61770478 0.82912398]\n"
     ]
    }
   ],
   "source": [
    "import numpy as np         \n",
    "\n",
    "#defining the inputs in an array as given in the question\n",
    "inp=np.array([1,-1])       \n",
    "\n",
    "#weights and bias for the first layer\n",
    "w1=np.array([[1,-1],[-2, 1]])     \n",
    "b1=np.array([1,0])\n",
    "\n",
    "#weights and bias for the second layer\n",
    "w2=np.array([[2, -2],[-1, -1]])\n",
    "b2=np.array([0,0])\n",
    "\n",
    "#weights and bias for the third layer\n",
    "w3=np.array([[3, -1],[-1, 4]])\n",
    "b3=np.array([-2,2])\n",
    "\n",
    "w=[w1,w2,w3]\n",
    "b=[b1,b2,b3]\n",
    "\n",
    "#defining the sigmoid function\n",
    "def sigm(z):\n",
    "    return(1/(1+np.exp(-z)))\n",
    "\n",
    "#activation function\n",
    "a=inp\n",
    "for i in range(3):\n",
    "    z=np.dot(a,w[i])+b[i]\n",
    "    a=sigm(z)\n",
    "    \n",
    "print(inp)\n",
    "print(a)"
   ]
  },
  {
   "cell_type": "markdown",
   "metadata": {},
   "source": [
    "2. Generalise the code with the design of deep neural architecture details received as an input from the user. Use the random weights and bias to perform the feed forward computation for the architecture given by the user."
   ]
  },
  {
   "cell_type": "markdown",
   "metadata": {},
   "source": [
    "User's inputs"
   ]
  },
  {
   "cell_type": "code",
   "execution_count": 114,
   "metadata": {},
   "outputs": [],
   "source": [
    "layers=3\n",
    "user_inp=np.array([1,-1])  \n",
    "out_size=2"
   ]
  },
  {
   "cell_type": "code",
   "execution_count": 115,
   "metadata": {},
   "outputs": [
    {
     "name": "stdout",
     "output_type": "stream",
     "text": [
      "2\n"
     ]
    }
   ],
   "source": [
    "print(inp_size)"
   ]
  },
  {
   "cell_type": "code",
   "execution_count": 116,
   "metadata": {},
   "outputs": [
    {
     "name": "stdout",
     "output_type": "stream",
     "text": [
      "[ 1 -1]\n",
      "[[0.70722494 0.82949876]]\n"
     ]
    }
   ],
   "source": [
    "inp_size=np.size(user_inp)\n",
    "\n",
    "#Random Weights and Random biases are generated for output and input layers\n",
    "w_random=np.zeros(shape=(layers-1, inp_size, inp_size))\n",
    "w_final=np.zeros(shape=(1, inp_size, out_size)) #weight for final layer\n",
    "\n",
    "b_random=np.zeros(shape=(layers-1, 1, inp_size))\n",
    "b_final=np.zeros(shape=(1, 1, out_size))   #bias for final layer\n",
    "\n",
    "for i in range(layers):\n",
    "    if i == (layers-1):\n",
    "        w_final[0]=np.random.rand(1,out_size)\n",
    "        b_final[0]=np.random.rand(1,out_size)\n",
    "    else:\n",
    "        w_random[i]=np.random.rand(inp_size,inp_size)\n",
    "        b_random[i]=np.random.rand(1,inp_size)\n",
    "        \n",
    "a=user_inp\n",
    "\n",
    "#Sigmoid computation\n",
    "for i in range(layers):\n",
    "    if i == (layers-1):\n",
    "        z=np.dot(a,w_final[0])+b_final[0]\n",
    "        a=sigm(z)\n",
    "    else:\n",
    "        z=np.dot(a,w_random[i])+b_random[i]\n",
    "        a=sigm(z)\n",
    "        \n",
    "\n",
    "print(user_inp)\n",
    "print(a)"
   ]
  }
 ],
 "metadata": {
  "kernelspec": {
   "display_name": "Python 3",
   "language": "python",
   "name": "python3"
  },
  "language_info": {
   "codemirror_mode": {
    "name": "ipython",
    "version": 3
   },
   "file_extension": ".py",
   "mimetype": "text/x-python",
   "name": "python",
   "nbconvert_exporter": "python",
   "pygments_lexer": "ipython3",
   "version": "3.7.6"
  }
 },
 "nbformat": 4,
 "nbformat_minor": 4
}
