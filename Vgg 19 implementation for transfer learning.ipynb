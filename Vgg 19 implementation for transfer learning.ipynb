{
  "nbformat": 4,
  "nbformat_minor": 0,
  "metadata": {
    "accelerator": "GPU",
    "colab": {
      "name": "CNN_TransferLearning.ipynb",
      "provenance": [],
      "collapsed_sections": []
    },
    "kernelspec": {
      "display_name": "Python 3",
      "language": "python",
      "name": "python3"
    },
    "language_info": {
      "codemirror_mode": {
        "name": "ipython",
        "version": 3
      },
      "file_extension": ".py",
      "mimetype": "text/x-python",
      "name": "python",
      "nbconvert_exporter": "python",
      "pygments_lexer": "ipython3",
      "version": "3.6.9"
    }
  },
  "cells": [
    {
      "cell_type": "markdown",
      "metadata": {
        "id": "Gnon32ImF-ga"
      },
      "source": [
        "Using Vgg19\n"
      ]
    },
    {
      "cell_type": "markdown",
      "metadata": {
        "id": "OJezA905NYGM"
      },
      "source": [
        "question 1\n",
        "**Loading vgg19**"
      ]
    },
    {
      "cell_type": "code",
      "metadata": {
        "id": "oO17KxUt4cri"
      },
      "source": [
        "import numpy as np\n",
        "import matplotlib.pyplot as plt\n",
        "%matplotlib inline\n",
        "from __future__ import print_function\n",
        "import keras\n",
        "from keras.preprocessing.image import ImageDataGenerator, load_img\n",
        "from keras.applications import VGG19\n",
        "\n",
        "from keras import models\n",
        "from keras import layers\n",
        "from keras import optimizers\n",
        "\n",
        "image_size = 32"
      ],
      "execution_count": null,
      "outputs": []
    },
    {
      "cell_type": "code",
      "metadata": {
        "colab": {
          "base_uri": "https://localhost:8080/"
        },
        "id": "8OaPIIxlCgpQ",
        "outputId": "2236b6b6-65ab-4b0c-80b0-ba146e7238ef"
      },
      "source": [
        "from keras.datasets import cifar10\n",
        "\n",
        "num_classes = 10\n",
        "# The data, split between train and test sets:\n",
        "(x_train, y_train), (x_test, y_test) = cifar10.load_data()\n",
        "print('x_train shape:', x_train.shape)\n",
        "print(x_train.shape[0], 'train samples')\n",
        "print(x_test.shape[0], 'test samples')\n",
        "\n",
        "# Convert class vectors to binary class matrices.\n",
        "y_train = keras.utils.to_categorical(y_train, num_classes)\n",
        "y_test = keras.utils.to_categorical(y_test, num_classes)"
      ],
      "execution_count": null,
      "outputs": [
        {
          "output_type": "stream",
          "text": [
            "Downloading data from https://www.cs.toronto.edu/~kriz/cifar-10-python.tar.gz\n",
            "170500096/170498071 [==============================] - 4s 0us/step\n",
            "x_train shape: (50000, 32, 32, 3)\n",
            "50000 train samples\n",
            "10000 test samples\n"
          ],
          "name": "stdout"
        }
      ]
    },
    {
      "cell_type": "code",
      "metadata": {
        "colab": {
          "base_uri": "https://localhost:8080/"
        },
        "id": "wenDqECo7uj9",
        "outputId": "75a0059b-2d2e-4197-d336-44821333a7ca"
      },
      "source": [
        "\n",
        "#Load the VGG model\n",
        "vgg_conv = VGG19(weights='imagenet', include_top=False, input_shape=(image_size, image_size, 3))\n",
        "\n",
        "# Freeze all the layers\n",
        "for layer in vgg_conv.layers[:]:\n",
        "    layer.trainable = False\n",
        "\n",
        "# Check the trainable status of the individual layers\n",
        "for layer in vgg_conv.layers:\n",
        "    print(layer.name, layer.trainable)"
      ],
      "execution_count": null,
      "outputs": [
        {
          "output_type": "stream",
          "text": [
            "Downloading data from https://storage.googleapis.com/tensorflow/keras-applications/vgg19/vgg19_weights_tf_dim_ordering_tf_kernels_notop.h5\n",
            "80142336/80134624 [==============================] - 1s 0us/step\n",
            "input_1 False\n",
            "block1_conv1 False\n",
            "block1_conv2 False\n",
            "block1_pool False\n",
            "block2_conv1 False\n",
            "block2_conv2 False\n",
            "block2_pool False\n",
            "block3_conv1 False\n",
            "block3_conv2 False\n",
            "block3_conv3 False\n",
            "block3_conv4 False\n",
            "block3_pool False\n",
            "block4_conv1 False\n",
            "block4_conv2 False\n",
            "block4_conv3 False\n",
            "block4_conv4 False\n",
            "block4_pool False\n",
            "block5_conv1 False\n",
            "block5_conv2 False\n",
            "block5_conv3 False\n",
            "block5_conv4 False\n",
            "block5_pool False\n"
          ],
          "name": "stdout"
        }
      ]
    },
    {
      "cell_type": "code",
      "metadata": {
        "colab": {
          "base_uri": "https://localhost:8080/"
        },
        "id": "lHOgD48A77HJ",
        "outputId": "82265610-5833-473c-e8f5-8ee88f3898d3"
      },
      "source": [
        "\n",
        "# Create the model\n",
        "model = models.Sequential()\n",
        "\n",
        "# Add the vgg convolutional base model\n",
        "model.add(vgg_conv)\n",
        "\n",
        "# Add new layers\n",
        "model.add(layers.Flatten())\n",
        "model.add(layers.Dense(1024, activation='relu'))\n",
        "model.add(layers.Dropout(0.5))\n",
        "model.add(layers.Dense(num_classes, activation='softmax'))\n",
        "\n",
        "# Show a summary of the model. Check the number of trainable parameters\n",
        "model.summary()"
      ],
      "execution_count": null,
      "outputs": [
        {
          "output_type": "stream",
          "text": [
            "Model: \"sequential\"\n",
            "_________________________________________________________________\n",
            "Layer (type)                 Output Shape              Param #   \n",
            "=================================================================\n",
            "vgg19 (Functional)           (None, 1, 1, 512)         20024384  \n",
            "_________________________________________________________________\n",
            "flatten (Flatten)            (None, 512)               0         \n",
            "_________________________________________________________________\n",
            "dense (Dense)                (None, 1024)              525312    \n",
            "_________________________________________________________________\n",
            "dropout (Dropout)            (None, 1024)              0         \n",
            "_________________________________________________________________\n",
            "dense_1 (Dense)              (None, 10)                10250     \n",
            "=================================================================\n",
            "Total params: 20,559,946\n",
            "Trainable params: 535,562\n",
            "Non-trainable params: 20,024,384\n",
            "_________________________________________________________________\n"
          ],
          "name": "stdout"
        }
      ]
    },
    {
      "cell_type": "code",
      "metadata": {
        "id": "9MdVdi-p8Tve"
      },
      "source": [
        "# Compile the model\n",
        "model.compile(loss='categorical_crossentropy',\n",
        "              optimizer=optimizers.RMSprop(lr=1e-4),\n",
        "              metrics=['acc'])"
      ],
      "execution_count": null,
      "outputs": []
    },
    {
      "cell_type": "code",
      "metadata": {
        "colab": {
          "background_save": true,
          "base_uri": "https://localhost:8080/"
        },
        "id": "B9a2vF2K8fIO",
        "outputId": "861a09d6-5ae8-42b4-b123-9fe90a55c7a6"
      },
      "source": [
        "history = model.fit(x_train, y_train,\n",
        "              batch_size=64,\n",
        "              epochs=5,\n",
        "              validation_data=(x_test, y_test))"
      ],
      "execution_count": null,
      "outputs": [
        {
          "output_type": "stream",
          "text": [
            "Epoch 1/5\n",
            "782/782 [==============================] - 799s 1s/step - loss: 12.3335 - acc: 0.2921 - val_loss: 2.6256 - val_acc: 0.5336\n",
            "Epoch 2/5\n",
            "782/782 [==============================] - 780s 998ms/step - loss: 3.3496 - acc: 0.4409 - val_loss: 1.6119 - val_acc: 0.5345\n",
            "Epoch 3/5\n",
            "782/782 [==============================] - 780s 998ms/step - loss: 1.8386 - acc: 0.4879 - val_loss: 1.4452 - val_acc: 0.5560\n",
            "Epoch 4/5\n",
            "782/782 [==============================] - 778s 995ms/step - loss: 1.5709 - acc: 0.5253 - val_loss: 1.3865 - val_acc: 0.5734\n",
            "Epoch 5/5\n",
            "782/782 [==============================] - 793s 1s/step - loss: 1.4234 - acc: 0.5583 - val_loss: 1.3649 - val_acc: 0.5835\n"
          ],
          "name": "stdout"
        }
      ]
    },
    {
      "cell_type": "code",
      "metadata": {
        "colab": {
          "base_uri": "https://localhost:8080/",
          "height": 545
        },
        "id": "i28DSNlO8m0q",
        "outputId": "c764d938-0593-49b5-dcbc-1844f66c42a4"
      },
      "source": [
        "\n",
        "# Plot the accuracy and loss curves\n",
        "acc = history.history['acc']\n",
        "val_acc = history.history['val_acc']\n",
        "loss = history.history['loss']\n",
        "val_loss = history.history['val_loss']\n",
        "\n",
        "epochs = range(len(acc))\n",
        "\n",
        "plt.plot(epochs, acc, 'b', label='Training acc')\n",
        "plt.plot(epochs, val_acc, 'r', label='Validation acc')\n",
        "plt.title('Training and validation accuracy')\n",
        "plt.legend()\n",
        "\n",
        "plt.figure()\n",
        "\n",
        "plt.plot(epochs, loss, 'b', label='Training loss')\n",
        "plt.plot(epochs, val_loss, 'r', label='Validation loss')\n",
        "plt.title('Training and validation loss')\n",
        "plt.legend()\n",
        "\n",
        "plt.show()"
      ],
      "execution_count": null,
      "outputs": [
        {
          "output_type": "display_data",
          "data": {
            "image/png": "[encoded data removed]",
            "text/plain": [
              "<Figure size 432x288 with 1 Axes>"
            ]
          },
          "metadata": {
            "tags": []
          }
        },
        {
          "output_type": "display_data",
          "data": {
            "image/png": "[encoded data removed]",
            "text/plain": [
              "<Figure size 432x288 with 1 Axes>"
            ]
          },
          "metadata": {
            "tags": []
          }
        }
      ]
    },
    {
      "cell_type": "markdown",
      "metadata": {
        "id": "T3uUXlomOrvi"
      },
      "source": [
        "#Question 2"
      ]
    },
    {
      "cell_type": "code",
      "metadata": {
        "colab": {
          "base_uri": "https://localhost:8080/"
        },
        "id": "AaENJVX_Puux",
        "outputId": "be9da3e4-c63f-4e0d-eed2-7a0ad60b8f58"
      },
      "source": [
        "for i, layer in enumerate(vgg_conv.layers):\n",
        "   print(i, layer.name)\n"
      ],
      "execution_count": null,
      "outputs": [
        {
          "output_type": "stream",
          "text": [
            "0 input_1\n",
            "1 block1_conv1\n",
            "2 block1_conv2\n",
            "3 block1_pool\n",
            "4 block2_conv1\n",
            "5 block2_conv2\n",
            "6 block2_pool\n",
            "7 block3_conv1\n",
            "8 block3_conv2\n",
            "9 block3_conv3\n",
            "10 block3_conv4\n",
            "11 block3_pool\n",
            "12 block4_conv1\n",
            "13 block4_conv2\n",
            "14 block4_conv3\n",
            "15 block4_conv4\n",
            "16 block4_pool\n",
            "17 block5_conv1\n",
            "18 block5_conv2\n",
            "19 block5_conv3\n",
            "20 block5_conv4\n",
            "21 block5_pool\n"
          ],
          "name": "stdout"
        }
      ]
    },
    {
      "cell_type": "code",
      "metadata": {
        "colab": {
          "base_uri": "https://localhost:8080/"
        },
        "id": "5wv38bSlP0-u",
        "outputId": "cf479cb6-5aa6-4758-cd50-d3af4b152873"
      },
      "source": [
        "\n",
        "for layer in vgg_conv.layers[:20]:\n",
        "   layer.trainable = False\n",
        "for layer in vgg_conv.layers[20:]:\n",
        "   layer.trainable = True\n",
        "    \n",
        "\n",
        "for layer in vgg_conv.layers:\n",
        "    print(layer.name, layer.trainable)"
      ],
      "execution_count": null,
      "outputs": [
        {
          "output_type": "stream",
          "text": [
            "input_1 False\n",
            "block1_conv1 False\n",
            "block1_conv2 False\n",
            "block1_pool False\n",
            "block2_conv1 False\n",
            "block2_conv2 False\n",
            "block2_pool False\n",
            "block3_conv1 False\n",
            "block3_conv2 False\n",
            "block3_conv3 False\n",
            "block3_conv4 False\n",
            "block3_pool False\n",
            "block4_conv1 False\n",
            "block4_conv2 False\n",
            "block4_conv3 False\n",
            "block4_conv4 False\n",
            "block4_pool False\n",
            "block5_conv1 False\n",
            "block5_conv2 False\n",
            "block5_conv3 False\n",
            "block5_conv4 True\n",
            "block5_pool True\n"
          ],
          "name": "stdout"
        }
      ]
    },
    {
      "cell_type": "code",
      "metadata": {
        "colab": {
          "base_uri": "https://localhost:8080/"
        },
        "id": "8eBi0xZLQBQy",
        "outputId": "66217e50-ce12-453d-dbab-16ef67891f11"
      },
      "source": [
        "model.summary()"
      ],
      "execution_count": null,
      "outputs": [
        {
          "output_type": "stream",
          "text": [
            "Model: \"sequential\"\n",
            "_________________________________________________________________\n",
            "Layer (type)                 Output Shape              Param #   \n",
            "=================================================================\n",
            "vgg19 (Functional)           (None, 1, 1, 512)         20024384  \n",
            "_________________________________________________________________\n",
            "flatten (Flatten)            (None, 512)               0         \n",
            "_________________________________________________________________\n",
            "dense (Dense)                (None, 1024)              525312    \n",
            "_________________________________________________________________\n",
            "dropout (Dropout)            (None, 1024)              0         \n",
            "_________________________________________________________________\n",
            "dense_1 (Dense)              (None, 10)                10250     \n",
            "=================================================================\n",
            "Total params: 20,559,946\n",
            "Trainable params: 2,895,370\n",
            "Non-trainable params: 17,664,576\n",
            "_________________________________________________________________\n"
          ],
          "name": "stdout"
        }
      ]
    },
    {
      "cell_type": "code",
      "metadata": {
        "id": "s53xq6GgQHdl"
      },
      "source": [
        "# we need to recompile the model for these modifications to take effect\n",
        "# we use SGD with a low learning rate\n",
        "from keras.optimizers import SGD\n",
        "model.compile(optimizer=SGD(lr=0.0001, momentum=0.9),\n",
        "              loss='categorical_crossentropy', metrics=['acc'])"
      ],
      "execution_count": null,
      "outputs": []
    },
    {
      "cell_type": "code",
      "metadata": {
        "colab": {
          "base_uri": "https://localhost:8080/"
        },
        "id": "8TcV7i8-RCSg",
        "outputId": "caefb871-ad98-40d7-91e3-71c124402799"
      },
      "source": [
        "history = model.fit(x_train, y_train,\n",
        "              batch_size=64,\n",
        "              epochs=5,\n",
        "              validation_data=(x_test, y_test))"
      ],
      "execution_count": null,
      "outputs": [
        {
          "output_type": "stream",
          "text": [
            "Epoch 1/5\n",
            "782/782 [==============================] - 11s 13ms/step - loss: 0.5311 - acc: 0.8111 - val_loss: 0.7498 - val_acc: 0.7561\n",
            "Epoch 2/5\n",
            "782/782 [==============================] - 10s 13ms/step - loss: 0.5090 - acc: 0.8180 - val_loss: 0.7502 - val_acc: 0.7576\n",
            "Epoch 3/5\n",
            "782/782 [==============================] - 10s 13ms/step - loss: 0.4793 - acc: 0.8277 - val_loss: 0.7554 - val_acc: 0.7576\n",
            "Epoch 4/5\n",
            "782/782 [==============================] - 10s 13ms/step - loss: 0.4641 - acc: 0.8321 - val_loss: 0.7531 - val_acc: 0.7590\n",
            "Epoch 5/5\n",
            "782/782 [==============================] - 10s 13ms/step - loss: 0.4494 - acc: 0.8376 - val_loss: 0.7588 - val_acc: 0.7596\n"
          ],
          "name": "stdout"
        }
      ]
    },
    {
      "cell_type": "code",
      "metadata": {
        "colab": {
          "base_uri": "https://localhost:8080/",
          "height": 545
        },
        "id": "DjBcdZhoRUpT",
        "outputId": "76762e6c-f4f2-4e4a-dd50-c9104d85cc3e"
      },
      "source": [
        "# Plot the accuracy and loss curves\n",
        "acc = history.history['acc']\n",
        "val_acc = history.history['val_acc']\n",
        "loss = history.history['loss']\n",
        "val_loss = history.history['val_loss']\n",
        "\n",
        "epochs = range(len(acc))\n",
        "\n",
        "plt.plot(epochs, acc, 'b', label='Training acc')\n",
        "plt.plot(epochs, val_acc, 'r', label='Validation acc')\n",
        "plt.title('Training and validation accuracy')\n",
        "plt.legend()\n",
        "\n",
        "plt.figure()\n",
        "\n",
        "plt.plot(epochs, loss, 'b', label='Training loss')\n",
        "plt.plot(epochs, val_loss, 'r', label='Validation loss')\n",
        "plt.title('Training and validation loss')\n",
        "plt.legend()\n",
        "\n",
        "plt.show()"
      ],
      "execution_count": null,
      "outputs": [
        {
          "output_type": "display_data",
          "data": {
            "image/png": "[encoded data removed]",
            "text/plain": [
              "<Figure size 432x288 with 1 Axes>"
            ]
          },
          "metadata": {
            "tags": []
          }
        },
        {
          "output_type": "display_data",
          "data": {
            "image/png": "[encoded data removed]",
            "text/plain": [
              "<Figure size 432x288 with 1 Axes>"
            ]
          },
          "metadata": {
            "tags": []
          }
        }
      ]
    },
    {
      "cell_type": "markdown",
      "metadata": {
        "id": "Q6ZHIVxGJC72"
      },
      "source": [
        "## 3rd question\n",
        "\n"
      ]
    },
    {
      "cell_type": "code",
      "metadata": {
        "colab": {
          "base_uri": "https://localhost:8080/"
        },
        "id": "THHB7vn4r-EU",
        "outputId": "ca0205dc-f192-4d17-abbd-3c6a910ecaf0"
      },
      "source": [
        "\n",
        "\n",
        "model1 = models.Sequential()\n",
        "model1.add(vgg_conv)\n",
        "model1.add(layers.Flatten())\n",
        "model1.add(layers.Dense(4096, activation='relu'))\n",
        "model1.add(layers.Dropout(0.5))\n",
        "model1.add(layers.Dense(num_classes, activation='softmax'))\n",
        "model1.summary()"
      ],
      "execution_count": null,
      "outputs": [
        {
          "output_type": "stream",
          "text": [
            "Model: \"sequential_6\"\n",
            "_________________________________________________________________\n",
            "Layer (type)                 Output Shape              Param #   \n",
            "=================================================================\n",
            "vgg19 (Functional)           (None, 1, 1, 512)         20024384  \n",
            "_________________________________________________________________\n",
            "flatten_6 (Flatten)          (None, 512)               0         \n",
            "_________________________________________________________________\n",
            "dense_12 (Dense)             (None, 4096)              2101248   \n",
            "_________________________________________________________________\n",
            "dropout_6 (Dropout)          (None, 4096)              0         \n",
            "_________________________________________________________________\n",
            "dense_13 (Dense)             (None, 10)                40970     \n",
            "=================================================================\n",
            "Total params: 22,166,602\n",
            "Trainable params: 4,502,026\n",
            "Non-trainable params: 17,664,576\n",
            "_________________________________________________________________\n"
          ],
          "name": "stdout"
        }
      ]
    },
    {
      "cell_type": "code",
      "metadata": {
        "colab": {
          "base_uri": "https://localhost:8080/"
        },
        "id": "XE2LR7wDJAev",
        "outputId": "3da71f28-67c1-4897-e797-468673061c8d"
      },
      "source": [
        "\n",
        "for layer in vgg_conv.layers[:22]:\n",
        "   layer.trainable = False\n",
        "for layer in vgg_conv.layers[22:]:\n",
        "   layer.trainable = True\n",
        "    \n",
        "for layer in vgg_conv.layers:\n",
        "    print(layer.name, layer.trainable)"
      ],
      "execution_count": null,
      "outputs": [
        {
          "output_type": "stream",
          "text": [
            "input_1 False\n",
            "block1_conv1 False\n",
            "block1_conv2 False\n",
            "block1_pool False\n",
            "block2_conv1 False\n",
            "block2_conv2 False\n",
            "block2_pool False\n",
            "block3_conv1 False\n",
            "block3_conv2 False\n",
            "block3_conv3 False\n",
            "block3_conv4 False\n",
            "block3_pool False\n",
            "block4_conv1 False\n",
            "block4_conv2 False\n",
            "block4_conv3 False\n",
            "block4_conv4 False\n",
            "block4_pool False\n",
            "block5_conv1 False\n",
            "block5_conv2 False\n",
            "block5_conv3 False\n",
            "block5_conv4 False\n",
            "block5_pool False\n"
          ],
          "name": "stdout"
        }
      ]
    },
    {
      "cell_type": "code",
      "metadata": {
        "id": "GR8ZrimFKG-a"
      },
      "source": [
        "from keras.optimizers import SGD\n",
        "model1.compile(optimizer=SGD(lr=0.0001, momentum=0.9),\n",
        "              loss='categorical_crossentropy', metrics=['acc'])"
      ],
      "execution_count": null,
      "outputs": []
    },
    {
      "cell_type": "code",
      "metadata": {
        "colab": {
          "base_uri": "https://localhost:8080/"
        },
        "id": "QY3Qv-QpKQIP",
        "outputId": "08c54b3f-e93c-4fd6-9e1c-19101096c1f0"
      },
      "source": [
        "history = model1.fit(x_train, y_train,\n",
        "              batch_size=64,\n",
        "              epochs=5,\n",
        "              validation_data=(x_test, y_test))"
      ],
      "execution_count": null,
      "outputs": [
        {
          "output_type": "stream",
          "text": [
            "Epoch 1/5\n",
            "782/782 [==============================] - 10s 13ms/step - loss: 0.4188 - acc: 0.8609 - val_loss: 0.8682 - val_acc: 0.7540\n",
            "Epoch 2/5\n",
            "782/782 [==============================] - 10s 12ms/step - loss: 0.3972 - acc: 0.8691 - val_loss: 0.8815 - val_acc: 0.7535\n",
            "Epoch 3/5\n",
            "782/782 [==============================] - 10s 12ms/step - loss: 0.3965 - acc: 0.8685 - val_loss: 0.8906 - val_acc: 0.7530\n",
            "Epoch 4/5\n",
            "782/782 [==============================] - 10s 12ms/step - loss: 0.3901 - acc: 0.8695 - val_loss: 0.8963 - val_acc: 0.7526\n",
            "Epoch 5/5\n",
            "782/782 [==============================] - 10s 12ms/step - loss: 0.3914 - acc: 0.8679 - val_loss: 0.9014 - val_acc: 0.7539\n"
          ],
          "name": "stdout"
        }
      ]
    },
    {
      "cell_type": "code",
      "metadata": {
        "colab": {
          "base_uri": "https://localhost:8080/",
          "height": 545
        },
        "id": "EzjVbhREKZgG",
        "outputId": "5c6496f1-0828-42f6-cae1-1c7f849acba2"
      },
      "source": [
        "# Plot the accuracy and loss curves\n",
        "acc = history.history['acc']\n",
        "val_acc = history.history['val_acc']\n",
        "loss = history.history['loss']\n",
        "val_loss = history.history['val_loss']\n",
        "\n",
        "epochs = range(len(acc))\n",
        "\n",
        "plt.plot(epochs, acc, 'g', label='Training acc')\n",
        "plt.plot(epochs, val_acc, 'purple', label='Validation acc')\n",
        "plt.title('Training and validation accuracy')\n",
        "plt.legend()\n",
        "\n",
        "plt.figure()\n",
        "\n",
        "plt.plot(epochs, loss, 'g', label='Training loss')\n",
        "plt.plot(epochs, val_loss, 'purple', label='Validation loss')\n",
        "plt.title('Training and validation loss')\n",
        "plt.legend()\n",
        "\n",
        "plt.show()"
      ],
      "execution_count": null,
      "outputs": [
        {
          "output_type": "display_data",
          "data": {
            "image/png": "[encoded data removed]",
            "text/plain": [
              "<Figure size 432x288 with 1 Axes>"
            ]
          },
          "metadata": {
            "tags": []
          }
        },
        {
          "output_type": "display_data",
          "data": {
            "image/png": "[encoded data removed]",
            "text/plain": [
              "<Figure size 432x288 with 1 Axes>"
            ]
          },
          "metadata": {
            "tags": []
          }
        }
      ]
    },
    {
      "cell_type": "code",
      "metadata": {
        "colab": {
          "base_uri": "https://localhost:8080/",
          "height": 545
        },
        "id": "hhbgo5LnQYu3",
        "outputId": "5f48d29b-2a4b-46f6-8a23-c493c0988d58"
      },
      "source": [
        "# Plot the accuracy and loss curves\n",
        "acc = history.history['acc']\n",
        "val_acc = history.history['val_acc']\n",
        "loss = history.history['loss']\n",
        "val_loss = history.history['val_loss']\n",
        "\n",
        "epochs = range(len(acc))\n",
        "\n",
        "plt.plot(epochs, acc, 'g', label='Training acc')\n",
        "plt.plot(epochs, val_acc, 'purple', label='Validation acc')\n",
        "plt.title('Training and validation accuracy')\n",
        "plt.legend()\n",
        "\n",
        "plt.figure()\n",
        "\n",
        "plt.plot(epochs, loss, 'g', label='Training loss')\n",
        "plt.plot(epochs, val_loss, 'purple', label='Validation loss')\n",
        "plt.title('Training and validation loss')\n",
        "plt.legend()\n",
        "\n",
        "plt.show()"
      ],
      "execution_count": null,
      "outputs": [
        {
          "output_type": "display_data",
          "data": {
            "image/png": "[encoded data removed]",
            "text/plain": [
              "<Figure size 432x288 with 1 Axes>"
            ]
          },
          "metadata": {
            "tags": []
          }
        },
        {
          "output_type": "display_data",
          "data": {
            "image/png": "[encoded data removed]",
            "text/plain": [
              "<Figure size 432x288 with 1 Axes>"
            ]
          },
          "metadata": {
            "tags": []
          }
        }
      ]
    },
    {
      "cell_type": "code",
      "metadata": {
        "id": "0lC7WjIVPvs8"
      },
      "source": [
        ""
      ],
      "execution_count": null,
      "outputs": []
    },
    {
      "cell_type": "markdown",
      "metadata": {
        "id": "LeQwOyG1Pwpq"
      },
      "source": [
        "Question 4"
      ]
    },
    {
      "cell_type": "code",
      "metadata": {
        "colab": {
          "base_uri": "https://localhost:8080/"
        },
        "id": "8e8MofGdPy5p",
        "outputId": "231fa2c0-3fc9-4539-f2b4-163024afd67b"
      },
      "source": [
        "# Create the model\n",
        "model2 = models.Sequential()\n",
        "model2.add(vgg_conv)\n",
        "model2.add(layers.Flatten())\n",
        "model2.add(layers.Dense(4096, activation='relu'))\n",
        "model2.add(layers.Dropout(0.5))\n",
        "model2.add(layers.Dense(num_classes, activation='softmax'))\n",
        "model2.summary()"
      ],
      "execution_count": null,
      "outputs": [
        {
          "output_type": "stream",
          "text": [
            "Model: \"sequential_7\"\n",
            "_________________________________________________________________\n",
            "Layer (type)                 Output Shape              Param #   \n",
            "=================================================================\n",
            "vgg19 (Functional)           (None, 1, 1, 512)         20024384  \n",
            "_________________________________________________________________\n",
            "flatten_7 (Flatten)          (None, 512)               0         \n",
            "_________________________________________________________________\n",
            "dense_14 (Dense)             (None, 4096)              2101248   \n",
            "_________________________________________________________________\n",
            "dropout_7 (Dropout)          (None, 4096)              0         \n",
            "_________________________________________________________________\n",
            "dense_15 (Dense)             (None, 10)                40970     \n",
            "=================================================================\n",
            "Total params: 22,166,602\n",
            "Trainable params: 2,142,218\n",
            "Non-trainable params: 20,024,384\n",
            "_________________________________________________________________\n"
          ],
          "name": "stdout"
        }
      ]
    },
    {
      "cell_type": "code",
      "metadata": {
        "colab": {
          "base_uri": "https://localhost:8080/"
        },
        "id": "dqZIojreP-gj",
        "outputId": "f49c9eec-2b44-4a68-fb17-b513b033057d"
      },
      "source": [
        "for layer in vgg_conv.layers[:20]:\n",
        "   layer.trainable = False\n",
        "for layer in vgg_conv.layers[20:]:\n",
        "   layer.trainable = True\n",
        "    \n",
        "for layer in vgg_conv.layers:\n",
        "    print(layer.name, layer.trainable)"
      ],
      "execution_count": null,
      "outputs": [
        {
          "output_type": "stream",
          "text": [
            "input_1 False\n",
            "block1_conv1 False\n",
            "block1_conv2 False\n",
            "block1_pool False\n",
            "block2_conv1 False\n",
            "block2_conv2 False\n",
            "block2_pool False\n",
            "block3_conv1 False\n",
            "block3_conv2 False\n",
            "block3_conv3 False\n",
            "block3_conv4 False\n",
            "block3_pool False\n",
            "block4_conv1 False\n",
            "block4_conv2 False\n",
            "block4_conv3 False\n",
            "block4_conv4 False\n",
            "block4_pool False\n",
            "block5_conv1 False\n",
            "block5_conv2 False\n",
            "block5_conv3 False\n",
            "block5_conv4 True\n",
            "block5_pool True\n"
          ],
          "name": "stdout"
        }
      ]
    },
    {
      "cell_type": "code",
      "metadata": {
        "id": "UYJznsMyQB2W"
      },
      "source": [
        "from keras.optimizers import SGD\n",
        "model2.compile(optimizer=SGD(lr=0.0001, momentum=0.9),\n",
        "              loss='categorical_crossentropy', metrics=['acc'])"
      ],
      "execution_count": null,
      "outputs": []
    },
    {
      "cell_type": "code",
      "metadata": {
        "colab": {
          "base_uri": "https://localhost:8080/"
        },
        "id": "mFJqCX-IQG2g",
        "outputId": "a0b3f8e6-5d0c-4720-f9f2-a06f8bd81a79"
      },
      "source": [
        "history = model2.fit(x_train, y_train,\n",
        "              batch_size=64,\n",
        "              epochs=5,\n",
        "              validation_data=(x_test, y_test))"
      ],
      "execution_count": null,
      "outputs": [
        {
          "output_type": "stream",
          "text": [
            "Epoch 1/5\n",
            "782/782 [==============================] - 11s 14ms/step - loss: 0.8557 - acc: 0.7175 - val_loss: 0.8395 - val_acc: 0.7509\n",
            "Epoch 2/5\n",
            "782/782 [==============================] - 10s 13ms/step - loss: 0.4565 - acc: 0.8485 - val_loss: 0.8702 - val_acc: 0.7471\n",
            "Epoch 3/5\n",
            "782/782 [==============================] - 10s 13ms/step - loss: 0.4152 - acc: 0.8604 - val_loss: 0.8812 - val_acc: 0.7471\n",
            "Epoch 4/5\n",
            "782/782 [==============================] - 10s 13ms/step - loss: 0.3877 - acc: 0.8681 - val_loss: 0.9202 - val_acc: 0.7441\n",
            "Epoch 5/5\n",
            "782/782 [==============================] - 10s 13ms/step - loss: 0.3779 - acc: 0.8716 - val_loss: 0.9087 - val_acc: 0.7460\n"
          ],
          "name": "stdout"
        }
      ]
    },
    {
      "cell_type": "code",
      "metadata": {
        "colab": {
          "base_uri": "https://localhost:8080/",
          "height": 545
        },
        "id": "FE9-gTOXQulw",
        "outputId": "d9cfda7d-3e0d-453d-992e-021a405f33ec"
      },
      "source": [
        "# Plot the accuracy and loss curves\n",
        "acc = history.history['acc']\n",
        "val_acc = history.history['val_acc']\n",
        "loss = history.history['loss']\n",
        "val_loss = history.history['val_loss']\n",
        "\n",
        "epochs = range(len(acc))\n",
        "\n",
        "plt.plot(epochs, acc, 'black', label='Training acc')\n",
        "plt.plot(epochs, val_acc, 'orange', label='Validation acc')\n",
        "plt.title('Training and validation accuracy')\n",
        "plt.legend()\n",
        "\n",
        "plt.figure()\n",
        "\n",
        "plt.plot(epochs, loss, 'black', label='Training loss')\n",
        "plt.plot(epochs, val_loss, 'orange', label='Validation loss')\n",
        "plt.title('Training and validation loss')\n",
        "plt.legend()\n",
        "\n",
        "plt.show()"
      ],
      "execution_count": null,
      "outputs": [
        {
          "output_type": "display_data",
          "data": {
            "image/png": "[encoded data removed]",
            "text/plain": [
              "<Figure size 432x288 with 1 Axes>"
            ]
          },
          "metadata": {
            "tags": []
          }
        },
        {
          "output_type": "display_data",
          "data": {
            "image/png": "[encoded data removed]",
            "text/plain": [
              "<Figure size 432x288 with 1 Axes>"
            ]
          },
          "metadata": {
            "tags": []
          }
        }
      ]
    },
    {
      "cell_type": "markdown",
      "metadata": {
        "id": "RgdCBCwGLSk1"
      },
      "source": [
        "# Inference:\n",
        " When there are more convolution layers there will be more trainable parameters so epochs and training time should be high to get good accuracy. So when we freeze the convolution layers number of trainable parameters reduces thus improving the accuracy with same number of epochs.\n",
        " when we increase the parameters in Dense layer accuracy can be seen to improve\n",
        "\n",
        " Before freezing...\n",
        "Accuracy = 55%\n",
        "After freezing all layers except convo4...\n",
        "Accuracy = 74%\n",
        "Changing dense layer to 2048 and freezing all layers except convo4\n",
        "Accuracy = 75%\n",
        "unfreezing last convolutional layer and modified dense layer gives 90% accuracy a"
      ]
    },
    {
      "cell_type": "code",
      "metadata": {
        "id": "Mjn-hMDIOckf"
      },
      "source": [
        ""
      ],
      "execution_count": null,
      "outputs": []
    }
  ]
}