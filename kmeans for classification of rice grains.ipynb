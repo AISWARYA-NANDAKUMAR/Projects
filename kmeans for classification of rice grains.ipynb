{
 "cells": [
  {
   "cell_type": "code",
   "execution_count": 84,
   "metadata": {},
   "outputs": [
    {
     "name": "stdout",
     "output_type": "stream",
     "text": [
      "[[22.9 24.4 23.1 24.1 22.6]\n",
      " [12.  11.2 11.5 12.  11.9]]\n"
     ]
    }
   ],
   "source": [
    "import matplotlib.pyplot as plt\n",
    "import numpy as np\n",
    "import pylab as plt\n",
    "arr_bas = np.array([[45.4,43.6,42.9,44.1,46.1],[12.09,12.4,12.3,13.02,12.1]])\n",
    "basmati = (arr_bas)\n",
    "# print(basmati)\n",
    "# plt.scatter(arr_bas [0], arr_bas [1])\n",
    "# plt.show()\n",
    "arr_idli = np.array([[28.1,27.7,28.3,29.4,28.2],[16.3,16.2,15.3,16.5,16.4]])\n",
    "idli=(arr_idli)\n",
    "# print(idli)\n",
    "# plt.scatter(arr_idli[0],arr_idli[1])\n",
    "# plt.show()\n",
    "arr_samba = np.array([[31.0,32.7,30.4,32.5,31.07],[17.1,15.2,16.2,16.4,15.8]])\n",
    "samba=(arr_samba)\n",
    "# print(samba)\n",
    "# plt.scatter(arr_samba[0],arr_samba[1])\n",
    "# plt.show()\n",
    "arr_ponni = np.array([[32.1,30.4,29.1,29.54,29.5],[11.7,12.0,12.2,12.4,12.5]])\n",
    "ponni=(arr_ponni)\n",
    "# print(ponni)\n",
    "# plt.scatter(arr_ponni[0],arr_ponni[1])\n",
    "# plt.show()\n",
    "arr_ponniraw = np.array([[22.9,24.4,23.1,24.1,22.6],[12.0,11.2,11.5,12.0,11.9]])\n",
    "ponniraw=(arr_ponniraw)\n",
    "print(ponniraw)\n",
    "# plt.scatter(arr_ponniraw[0],arr_ponniraw[1])\n",
    "# plt.show()\n"
   ]
  },
  {
   "cell_type": "code",
   "execution_count": 85,
   "metadata": {},
   "outputs": [
    {
     "name": "stdout",
     "output_type": "stream",
     "text": [
      "22.6\n",
      "11.9\n"
     ]
    }
   ],
   "source": [
    "import numpy as np\n",
    "total=np.concatenate((arr_bas,arr_idli,arr_samba,arr_ponni,arr_ponniraw), axis=1, out=None)\n",
    "print(total[0][24])\n",
    "print(total[1][24])\n"
   ]
  },
  {
   "cell_type": "code",
   "execution_count": 15,
   "metadata": {},
   "outputs": [
    {
     "name": "stdout",
     "output_type": "stream",
     "text": [
      "[[22.9 24.4 23.1 24.1 22.6]\n",
      " [12.  11.2 11.5 12.  11.9]]\n"
     ]
    }
   ],
   "source": [
    "print(ponniraw)"
   ]
  },
  {
   "cell_type": "code",
   "execution_count": 21,
   "metadata": {},
   "outputs": [
    {
     "name": "stdout",
     "output_type": "stream",
     "text": [
      "[[22.9 24.4 23.1 24.1 22.6]\n",
      " [12.  11.2 11.5 12.  11.9]]\n"
     ]
    },
    {
     "ename": "AttributeError",
     "evalue": "module 'numpy' has no attribute 'dimension'",
     "output_type": "error",
     "traceback": [
      "\u001b[1;31m---------------------------------------------------------------------------\u001b[0m",
      "\u001b[1;31mAttributeError\u001b[0m                            Traceback (most recent call last)",
      "\u001b[1;32m<ipython-input-21-459f09cc26cf>\u001b[0m in \u001b[0;36m<module>\u001b[1;34m\u001b[0m\n\u001b[0;32m      1\u001b[0m \u001b[0mprint\u001b[0m\u001b[1;33m(\u001b[0m\u001b[0marr_ponniraw\u001b[0m\u001b[1;33m)\u001b[0m\u001b[1;33m\u001b[0m\u001b[1;33m\u001b[0m\u001b[0m\n\u001b[0;32m      2\u001b[0m \u001b[0mtype\u001b[0m\u001b[1;33m(\u001b[0m\u001b[0mponniraw\u001b[0m\u001b[1;33m)\u001b[0m\u001b[1;33m\u001b[0m\u001b[1;33m\u001b[0m\u001b[0m\n\u001b[1;32m----> 3\u001b[1;33m \u001b[0mnp\u001b[0m\u001b[1;33m.\u001b[0m\u001b[0mdimension\u001b[0m\u001b[1;33m(\u001b[0m\u001b[0marr_ponniraw\u001b[0m\u001b[1;33m)\u001b[0m\u001b[1;33m\u001b[0m\u001b[1;33m\u001b[0m\u001b[0m\n\u001b[0m",
      "\u001b[1;32m~\\anaconda3\\lib\\site-packages\\numpy\\__init__.py\u001b[0m in \u001b[0;36m__getattr__\u001b[1;34m(attr)\u001b[0m\n\u001b[0;32m    218\u001b[0m             \u001b[1;32melse\u001b[0m\u001b[1;33m:\u001b[0m\u001b[1;33m\u001b[0m\u001b[1;33m\u001b[0m\u001b[0m\n\u001b[0;32m    219\u001b[0m                 raise AttributeError(\"module {!r} has no attribute \"\n\u001b[1;32m--> 220\u001b[1;33m                                      \"{!r}\".format(__name__, attr))\n\u001b[0m\u001b[0;32m    221\u001b[0m \u001b[1;33m\u001b[0m\u001b[0m\n\u001b[0;32m    222\u001b[0m         \u001b[1;32mdef\u001b[0m \u001b[0m__dir__\u001b[0m\u001b[1;33m(\u001b[0m\u001b[1;33m)\u001b[0m\u001b[1;33m:\u001b[0m\u001b[1;33m\u001b[0m\u001b[1;33m\u001b[0m\u001b[0m\n",
      "\u001b[1;31mAttributeError\u001b[0m: module 'numpy' has no attribute 'dimension'"
     ]
    }
   ],
   "source": [
    "print(arr_ponniraw)\n",
    "type(ponniraw)"
   ]
  },
  {
   "cell_type": "code",
   "execution_count": 13,
   "metadata": {},
   "outputs": [
    {
     "data": {
      "text/plain": [
       "Text(0.5, 1.0, 'RICE VARITIES')"
      ]
     },
     "execution_count": 13,
     "metadata": {},
     "output_type": "execute_result"
    },
    {
     "data": {
      "image/png": "[encoded data removed]",
      "text/plain": [
       "<Figure size 432x288 with 1 Axes>"
      ]
     },
     "metadata": {
      "needs_background": "light"
     },
     "output_type": "display_data"
    }
   ],
   "source": [
    "plt.scatter(arr_bas [0], arr_bas [1])\n",
    "plt.scatter(arr_idli [0], arr_idli [1])\n",
    "plt.scatter(arr_samba [0], arr_samba [1])\n",
    "plt.scatter(arr_ponni [0], arr_ponni [1])\n",
    "plt.scatter(arr_ponniraw [0], arr_ponniraw [1])\n",
    "plt.legend(\n",
    "           ('basmati', 'idli', 'samba', 'ponni', 'ponniraw'),\n",
    "           scatterpoints=1,\n",
    "           loc='upper right',\n",
    "           ncol=1,\n",
    "           fontsize=14)\n",
    "plt.xlabel('Mean Length in pixels',fontsize=14)\n",
    "plt.ylabel('Mean Breadth in pixels',fontsize=14)\n",
    "plt.title('RICE VARITIES',fontsize=14)"
   ]
  },
  {
   "cell_type": "code",
   "execution_count": 43,
   "metadata": {},
   "outputs": [
    {
     "name": "stdout",
     "output_type": "stream",
     "text": [
      "[[0 0 0 0 0]\n",
      " [0 0 0 0 0]]\n"
     ]
    }
   ],
   "source": [
    "k=np.array([[0,0,0,0,0],[0,0,0,0,0]])\n",
    "print(k)"
   ]
  },
  {
   "cell_type": "code",
   "execution_count": 88,
   "metadata": {},
   "outputs": [
    {
     "name": "stdout",
     "output_type": "stream",
     "text": [
      "[[24.1  27.7  29.4  29.54 43.6 ]\n",
      " [12.   16.2  16.5  12.4  12.4 ]]\n"
     ]
    }
   ],
   "source": [
    "k=np.array([[0.0,0.0,0.0,0.0,0.0],[0.0,0.0,0.0,0.0,0.0]])\n",
    "# print(k)\n",
    "randp=[24,7,9,19,2]\n",
    "for i in range(0,5):\n",
    "    k[0][i]=total[0][randp[i]-1]\n",
    "    k[1][i]=total[1][randp[i]-1]\n",
    "print(k)\n",
    "    \n",
    "#     k[0][1]=total[0][randp[1]-1]\n",
    "#     k[1][1]=total[1][randp[1]-1]\n",
    "    \n",
    "#     k[0][2]=total[0][randp[2]-1]\n",
    "#     k[1][2]=total[1][randp[2]-1]\n",
    "    \n",
    "#     k[0][3]=total[0][randp[3]-1]\n",
    "#     k[1][3]=total[1][randp[3]-1]\n",
    "    \n",
    "#     k[0][4]=total[0][randp[4]-1]\n",
    "#     k[1][4]=total[1][randp[4]-1]"
   ]
  },
  {
   "cell_type": "code",
   "execution_count": 87,
   "metadata": {},
   "outputs": [
    {
     "name": "stdout",
     "output_type": "stream",
     "text": [
      "43.6\n"
     ]
    },
    {
     "data": {
      "text/plain": [
       "12.4"
      ]
     },
     "execution_count": 87,
     "metadata": {},
     "output_type": "execute_result"
    }
   ],
   "source": [
    "print(total[0][1])\n",
    "total[1][1]"
   ]
  },
  {
   "cell_type": "markdown",
   "metadata": {},
   "source": []
  },
  {
   "cell_type": "code",
   "execution_count": 81,
   "metadata": {},
   "outputs": [
    {
     "name": "stdout",
     "output_type": "stream",
     "text": [
      "5\n"
     ]
    }
   ],
   "source": [
    "print(k)"
   ]
  },
  {
   "cell_type": "code",
   "execution_count": null,
   "metadata": {},
   "outputs": [],
   "source": []
  }
 ],
 "metadata": {
  "kernelspec": {
   "display_name": "Python 3",
   "language": "python",
   "name": "python3"
  },
  "language_info": {
   "codemirror_mode": {
    "name": "ipython",
    "version": 3
   },
   "file_extension": ".py",
   "mimetype": "text/x-python",
   "name": "python",
   "nbconvert_exporter": "python",
   "pygments_lexer": "ipython3",
   "version": "3.7.6"
  }
 },
 "nbformat": 4,
 "nbformat_minor": 4
}
